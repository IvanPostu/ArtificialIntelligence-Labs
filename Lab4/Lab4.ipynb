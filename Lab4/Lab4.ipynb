{
 "cells": [
  {
   "attachments": {},
   "cell_type": "markdown",
   "metadata": {},
   "source": [
    "# FCIM.M.SI - Artificial Intelligence\n",
    "\n",
    "\n",
    "**Lab 2:** Processing Images with OpenCV\n",
    "\\\n",
    "**Performed by:** Postu Ivan SI-181M\n",
    "\\\n",
    "**Verified by:** Gavrilita Mihai\n",
    "\n",
    "## Task 1 - Write the following functions using OpenCV. Adjust the parameters and explain your approach. Plot the initial image and the blurred image in the same plot by using Matplotlib subplots.\n",
    "\n",
    "- A blurring function;\n",
    "\\\n",
    "![Alt text](./r1.png)\n",
    "\\\n",
    "- A sharpening function.\n",
    "\\\n",
    "![Alt text](./r2.png)\n",
    "\\\n"
   ]
  },
  {
   "cell_type": "code",
   "execution_count": 3,
   "metadata": {},
   "outputs": [
    {
     "ename": "ModuleNotFoundError",
     "evalue": "No module named 'matplotlib'",
     "output_type": "error",
     "traceback": [
      "\u001b[0;31m---------------------------------------------------------------------------\u001b[0m",
      "\u001b[0;31mModuleNotFoundError\u001b[0m                       Traceback (most recent call last)",
      "Cell \u001b[0;32mIn[3], line 1\u001b[0m\n\u001b[0;32m----> 1\u001b[0m \u001b[39mimport\u001b[39;00m \u001b[39mmatplotlib\u001b[39;00m\n\u001b[1;32m      3\u001b[0m matplotlib\u001b[39m.\u001b[39muse(\u001b[39m\"\u001b[39m\u001b[39mTkAgg\u001b[39m\u001b[39m\"\u001b[39m)\n\u001b[1;32m      5\u001b[0m \u001b[39mimport\u001b[39;00m \u001b[39mcv2\u001b[39;00m\n",
      "\u001b[0;31mModuleNotFoundError\u001b[0m: No module named 'matplotlib'"
     ]
    }
   ],
   "source": [
    "import matplotlib\n",
    "\n",
    "matplotlib.use(\"TkAgg\")\n",
    "\n",
    "import cv2\n",
    "import matplotlib.pyplot as plt\n",
    "import numpy as np\n",
    "\n",
    "#t1.py\n",
    "def blur_function(image_path, kernel_size=(5,5)):\n",
    "    img = cv2.imread(image_path)\n",
    "    gray = cv2.cvtColor(img, cv2.COLOR_BGR2GRAY)\n",
    "    blurred = cv2.GaussianBlur(gray, kernel_size, 0)\n",
    "    fig, axs = plt.subplots(1, 2, figsize=(10,5))\n",
    "    axs[0].imshow(cv2.cvtColor(img, cv2.COLOR_BGR2RGB))\n",
    "    axs[0].set_title('Original Image')\n",
    "    axs[1].imshow(blurred, cmap='gray')\n",
    "    axs[1].set_title('Blurred Image')\n",
    "\n",
    "    plt.show()\n",
    "\n",
    "def sharpen_function(image_path):\n",
    "    img = cv2.imread(image_path)\n",
    "    kernel = np.array([[-1, -1, -1], [-1, 9, -1], [-1, -1, -1]])\n",
    "    sharpened = cv2.filter2D(img, -1, kernel)\n",
    "    fig, axs = plt.subplots(1, 2, figsize=(10, 5))\n",
    "    axs[0].imshow(cv2.cvtColor(img, cv2.COLOR_BGR2RGB))\n",
    "    axs[0].set_title(\"Original Image\")\n",
    "    axs[1].imshow(cv2.cvtColor(sharpened, cv2.COLOR_BGR2RGB))\n",
    "    axs[1].set_title(\"Sharpened Image\")\n",
    "    plt.show()\n",
    "\n",
    "\n",
    "blur_function(\"/home/ivan/Desktop/ArtificialIntelligence/Lab4/q1.png\")\n",
    "sharpen_function(\"/home/ivan/Desktop/ArtificialIntelligence/Lab4/q1.png\")\n"
   ]
  }
 ],
 "metadata": {
  "kernelspec": {
   "display_name": "Python (myenv)",
   "language": "python",
   "name": "myenv"
  },
  "language_info": {
   "codemirror_mode": {
    "name": "ipython",
    "version": 3
   },
   "file_extension": ".py",
   "mimetype": "text/x-python",
   "name": "python",
   "nbconvert_exporter": "python",
   "pygments_lexer": "ipython3",
   "version": "3.8.10"
  },
  "orig_nbformat": 4
 },
 "nbformat": 4,
 "nbformat_minor": 2
}
